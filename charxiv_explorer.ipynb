{
  "cells": [
    {
      "cell_type": "markdown",
      "metadata": {},
      "source": [
        "# CharXiv Dataset Explorer\n",
        "\n",
        "This notebook allows you to explore any entry in the CharXiv dataset by simply changing the entry ID in the configuration cell below.\n",
        "\n",
        "## Instructions:\n",
        "1. Run the setup cells first\n",
        "2. Modify the **ENTRY_ID**, **MODE**, and **SPLIT** in the configuration cell\n",
        "3. Run the remaining cells to see the prompt and image\n"
      ]
    },
    {
      "cell_type": "markdown",
      "metadata": {},
      "source": [
        "## Setup and Imports\n"
      ]
    },
    {
      "cell_type": "code",
      "execution_count": 10,
      "metadata": {},
      "outputs": [
        {
          "name": "stdout",
          "output_type": "stream",
          "text": [
            "✅ Setup complete!\n"
          ]
        }
      ],
      "source": [
        "import os\n",
        "import json\n",
        "import sys\n",
        "import matplotlib.pyplot as plt\n",
        "import matplotlib.image as mpimg\n",
        "from IPython.display import display, Markdown\n",
        "\n",
        "# Add src directory to path to import utilities\n",
        "sys.path.append('/n/home08/atong/projects/CharXiv/src')\n",
        "from descriptive_utils import build_descriptive_quries\n",
        "from reasoning_utils import build_reasoning_queries\n",
        "\n",
        "print(\"✅ Setup complete!\")\n"
      ]
    },
    {
      "cell_type": "markdown",
      "metadata": {},
      "source": [
        "## Configuration - Modify This Cell to Change Entry\n"
      ]
    },
    {
      "cell_type": "code",
      "execution_count": 11,
      "metadata": {},
      "outputs": [
        {
          "name": "stdout",
          "output_type": "stream",
          "text": [
            "🔍 Exploring Entry: 7_0\n",
            "📊 Mode: descriptive\n",
            "📂 Split: val\n"
          ]
        }
      ],
      "source": [
        "# ========================================\n",
        "# MODIFY THESE PARAMETERS TO EXPLORE DIFFERENT ENTRIES\n",
        "# ========================================\n",
        "\n",
        "ENTRY_ID = \"7_0\"           # For descriptive: \"0_0\", \"12_2\", etc. For reasoning: \"0\", \"12\", etc.\n",
        "MODE = \"descriptive\"       # \"descriptive\" or \"reasoning\"\n",
        "SPLIT = \"val\"              # \"val\" or \"test\"\n",
        "\n",
        "# Paths (modify if needed)\n",
        "DATA_DIR = \"/n/home08/atong/projects/CharXiv/data\"\n",
        "IMAGE_DIR = \"/n/netscratch/ydu_lab/Lab/alex/CharXiv/images\"\n",
        "\n",
        "print(f\"🔍 Exploring Entry: {ENTRY_ID}\")\n",
        "print(f\"📊 Mode: {MODE}\")\n",
        "print(f\"📂 Split: {SPLIT}\")\n"
      ]
    },
    {
      "cell_type": "markdown",
      "metadata": {},
      "source": [
        "## Data Extraction Function\n"
      ]
    },
    {
      "cell_type": "code",
      "execution_count": 12,
      "metadata": {},
      "outputs": [],
      "source": [
        "def get_queries(mode, split, data_dir, image_dir):\n",
        "    input_file = os.path.join(data_dir, f\"{mode}_{split}.json\")\n",
        "    print(f\"Reading {input_file}...\")\n",
        "    with open(input_file) as f:\n",
        "        data = json.load(f)\n",
        "\n",
        "    if mode == 'descriptive':\n",
        "        from descriptive_utils import build_descriptive_quries\n",
        "        queries = build_descriptive_quries(data, image_dir)\n",
        "    elif mode == 'reasoning':\n",
        "        from reasoning_utils import build_reasoning_queries\n",
        "        queries = build_reasoning_queries(data, image_dir)\n",
        "    else: \n",
        "        raise ValueError(\"Mode not supported\")\n",
        "    \n",
        "    return data,queries\n",
        "    "
      ]
    },
    {
      "cell_type": "code",
      "execution_count": 13,
      "metadata": {},
      "outputs": [
        {
          "name": "stdout",
          "output_type": "stream",
          "text": [
            "Reading /n/home08/atong/projects/CharXiv/data/descriptive_val.json...\n"
          ]
        }
      ],
      "source": [
        "data,queries = get_queries(MODE, SPLIT, DATA_DIR, IMAGE_DIR)"
      ]
    },
    {
      "cell_type": "code",
      "execution_count": 14,
      "metadata": {},
      "outputs": [],
      "source": [
        "import textwrap\n",
        "\n",
        "def print_entry_data(entry_id):\n",
        "    problem = entry_id.split(\"_\")[0]\n",
        "    idx = int(entry_id.split(\"_\")[1])\n",
        "    answer = data[problem]['answers'][idx]\n",
        "    entry_data = queries[entry_id]\n",
        "    # print the question\n",
        "    print(f\"Figure ID: {entry_data['figure_id']}\")\n",
        "    print(f\"Question ID: {entry_data['qid']}\")\n",
        "    print(f\"Correct Answer: {answer}\")\n",
        "    print(textwrap.fill(entry_data['question'], width=100))\n",
        "    # print the image\n",
        "    image_path = entry_data['figure_path']\n",
        "    print(image_path)\n",
        "    image = mpimg.imread(image_path)\n",
        "    plt.imshow(image)\n",
        "    plt.show()\n",
        "    \n",
        "    "
      ]
    },
    {
      "cell_type": "code",
      "execution_count": 15,
      "metadata": {},
      "outputs": [],
      "source": [
        "gen = json.load(open(\"/n/home08/atong/projects/CharXiv/results/gen-gemma3-4b-it-descriptive_val.json\"))\n",
        "gen2 = json.load(open(\"/n/home08/atong/projects/CharXiv/results/gen-gemma3-4b-it-descriptive_val_parse.json\"))"
      ]
    },
    {
      "cell_type": "code",
      "execution_count": 36,
      "metadata": {},
      "outputs": [
        {
          "name": "stdout",
          "output_type": "stream",
          "text": [
            "Response: Not Applicable\n",
            "Figure ID: 107\n",
            "Question ID: 14\n",
            "Correct Answer: 0.10\n",
            "For the current plot, what is the difference between the maximum and minimum values of the tick\n",
            "labels on the continuous legend (i.e., colorbar)?     * You should remove the percentage sign (if\n",
            "any) in your answer.     * If the plot does not have an explicit colorbar-based continuous legend or\n",
            "the legend is not considered relevant to this subplot, answer \"Not Applicable\".\n",
            "/n/netscratch/ydu_lab/Lab/alex/CharXiv/images/107.jpg\n"
          ]
        },
        {
          "data": {
            "image/png": "[encoded data removed]",
            "text/plain": [
              "<Figure size 640x480 with 1 Axes>"
            ]
          },
          "metadata": {},
          "output_type": "display_data"
        }
      ],
      "source": [
        "# print_entry_data(\"81_1\")\n",
        "id = \"107_1\" # 153_1, \n",
        "# print('Response:', textwrap.fill(gen[id]['response'], width=100))\n",
        "print('Response:', textwrap.fill(gen2[id]['response'], width=90))\n",
        "\n",
        "print_entry_data(id)"
      ]
    },
    {
      "cell_type": "code",
      "execution_count": 35,
      "metadata": {},
      "outputs": [
        {
          "name": "stdout",
          "output_type": "stream",
          "text": [
            "7_3\n",
            "87_3\n",
            "107_1\n",
            "135_3\n",
            "167_3\n",
            "180_3\n",
            "257_3\n",
            "311_3\n",
            "330_3\n",
            "333_1\n",
            "336_0\n",
            "341_3\n",
            "346_3\n",
            "399_0\n",
            "402_3\n",
            "406_3\n",
            "407_1\n",
            "445_1\n",
            "450_3\n",
            "458_3\n",
            "471_3\n",
            "474_3\n",
            "484_3\n",
            "487_3\n",
            "496_3\n",
            "513_3\n",
            "515_3\n",
            "531_3\n",
            "565_3\n",
            "580_3\n",
            "593_1\n",
            "631_3\n",
            "636_3\n",
            "642_3\n",
            "655_3\n",
            "690_1\n",
            "777_3\n",
            "787_3\n",
            "805_0\n",
            "888_3\n",
            "893_3\n",
            "900_3\n",
            "908_0\n",
            "913_0\n",
            "917_3\n",
            "934_3\n",
            "936_3\n",
            "946_2\n",
            "949_3\n",
            "991_2\n",
            "1054_3\n",
            "1060_3\n",
            "1071_3\n",
            "1130_3\n",
            "1146_3\n",
            "1147_3\n",
            "1164_3\n",
            "1211_3\n",
            "1224_3\n",
            "1305_2\n",
            "1312_3\n",
            "1345_3\n",
            "1351_0\n",
            "1402_3\n",
            "1419_3\n",
            "1439_3\n",
            "1462_3\n",
            "1472_1\n",
            "1489_1\n",
            "1494_3\n",
            "1544_3\n",
            "1563_3\n",
            "1569_3\n",
            "1570_1\n",
            "1580_3\n",
            "1582_3\n",
            "1583_1\n",
            "1611_3\n",
            "1613_3\n",
            "1627_1\n",
            "1661_3\n",
            "1696_3\n",
            "1702_3\n",
            "1705_3\n",
            "1726_3\n",
            "1736_3\n",
            "1773_2\n",
            "1793_3\n",
            "1827_3\n",
            "1837_3\n",
            "1860_2\n",
            "1863_3\n",
            "1958_3\n",
            "1968_0\n",
            "1974_3\n",
            "2005_1\n",
            "2071_3\n",
            "2090_3\n",
            "2112_1\n",
            "2114_3\n",
            "2129_3\n",
            "2130_3\n",
            "2149_3\n",
            "2199_3\n",
            "2223_3\n",
            "2242_3\n",
            "2263_1\n",
            "2288_3\n",
            "2291_3\n",
            "2342_3\n",
            "2347_1\n",
            "2378_3\n",
            "2379_3\n",
            "2390_3\n",
            "2391_3\n",
            "2394_3\n",
            "2399_3\n"
          ]
        }
      ],
      "source": [
        "# gen_lis1 = json.load(open(\"/n/home08/atong/projects/CharXiv/results/gen-gemma3-4b-it-descriptive_val.json\"))\n",
        "# scores_lis1 = json.load(open(\"/n/home08/atong/projects/CharXiv/results/scores-gemma3-4b-it-descriptive_val.json\"))\n",
        "# scores_lis2 = json.load(open(\"/n/home08/atong/projects/CharXiv/results/scores-gemma3-27b-it-descriptive_val.json\"))\n",
        "gen_lis1 = json.load(open(\"/n/home08/atong/projects/CharXiv/results/gen-gemma3-4b-it-descriptive_val.json\"))\n",
        "scores_lis1 = json.load(open(\"/n/home08/atong/projects/CharXiv/results/scores-gemma3-4b-it-descriptive_val.json\"))\n",
        "scores_lis2 = json.load(open(\"/n/home08/atong/projects/CharXiv/results/scores-gemma3-4b-it-descriptive_val_parse.json\"))\n",
        "for id in gen_lis1.keys():\n",
        "    if gen_lis1[id]['qid'] == 14:\n",
        "        if scores_lis1[id]['score'] == 0 and scores_lis2[id]['score'] == 0:\n",
        "            print(id)\n",
        "            \n",
        "        \n"
      ]
    },
    {
      "cell_type": "code",
      "execution_count": null,
      "metadata": {},
      "outputs": [],
      "source": [
        "gen_lis1 = json.load(open(\"/n/home08/atong/projects/CharXiv/results/gen-gemma3-4b-it-descriptive_val.json\"))\n",
        "gen_lis2 = json.load(open(\"/n/home08/atong/projects/CharXiv/results/gen-gemma3-4b-it-descriptive_val_parse.json\"))\n",
        "scores_lis1 = json.load(open(\"/n/home08/atong/projects/CharXiv/results/scores-gemma3-4b-it-descriptive_val.json\"))\n",
        "scores_lis2 = json.load(open(\"/n/home08/atong/projects/CharXiv/results/scores-gemma3-4b-it-descriptive_val_parse.json\"))\n",
        "\n",
        "# list of qid from 1 to 17, then add to each qid the number of the qid\n",
        "qid_lis = {}\n",
        "for i in range(1, 18):\n",
        "    qid_lis[i] = 0\n",
        "for id in scores_lis1.keys():\n",
        "    if scores_lis1[id]['extracted_answer'] == \"\":\n",
        "        qid_lis[gen_lis1[id]['qid']] += 1\n",
        "        \n",
        "qid_lis2 = {}\n",
        "for i in range(1, 18):\n",
        "    qid_lis2[i] = 0\n",
        "for id in scores_lis2.keys():\n",
        "    if scores_lis2[id]['extracted_answer'] == \"\":\n",
        "        qid_lis2[gen_lis2[id]['qid']] += 1\n",
        "        "
      ]
    },
    {
      "cell_type": "code",
      "execution_count": 7,
      "metadata": {},
      "outputs": [
        {
          "name": "stdout",
          "output_type": "stream",
          "text": [
            "{1: 16, 2: 12, 3: 12, 4: 2, 5: 2, 6: 3, 7: 0, 8: 4, 9: 6, 10: 2, 11: 2, 12: 5, 13: 47, 14: 1, 15: 0, 16: 0, 17: 0}\n",
            "{1: 8, 2: 10, 3: 2, 4: 0, 5: 1, 6: 3, 7: 0, 8: 15, 9: 18, 10: 3, 11: 9, 12: 15, 13: 37, 14: 34, 15: 16, 16: 0, 17: 0}\n"
          ]
        }
      ],
      "source": [
        "print(qid_lis)\n",
        "print(qid_lis2)"
      ]
    },
    {
      "cell_type": "markdown",
      "metadata": {},
      "source": []
    },
    {
      "cell_type": "markdown",
      "metadata": {},
      "source": []
    }
  ],
  "metadata": {
    "kernelspec": {
      "display_name": "lmvf",
      "language": "python",
      "name": "python3"
    },
    "language_info": {
      "codemirror_mode": {
        "name": "ipython",
        "version": 3
      },
      "file_extension": ".py",
      "mimetype": "text/x-python",
      "name": "python",
      "nbconvert_exporter": "python",
      "pygments_lexer": "ipython3",
      "version": "3.10.17"
    }
  },
  "nbformat": 4,
  "nbformat_minor": 2
}
